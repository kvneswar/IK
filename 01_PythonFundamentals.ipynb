{
  "nbformat": 4,
  "nbformat_minor": 0,
  "metadata": {
    "colab": {
      "provenance": [],
      "authorship_tag": "ABX9TyOeaxRrKQTIZ+mb0mjUKLu+",
      "include_colab_link": true
    },
    "kernelspec": {
      "name": "python3",
      "display_name": "Python 3"
    },
    "language_info": {
      "name": "python"
    }
  },
  "cells": [
    {
      "cell_type": "markdown",
      "metadata": {
        "id": "view-in-github",
        "colab_type": "text"
      },
      "source": [
        "<a href=\"https://colab.research.google.com/github/kvneswar/IK/blob/main/01_PythonFundamentals.ipynb\" target=\"_parent\"><img src=\"https://colab.research.google.com/assets/colab-badge.svg\" alt=\"Open In Colab\"/></a>"
      ]
    },
    {
      "cell_type": "code",
      "execution_count": 10,
      "metadata": {
        "colab": {
          "base_uri": "https://localhost:8080/"
        },
        "id": "VwwBIZkb7YVq",
        "outputId": "39ba5b4d-e50b-492f-9b1a-d9c4810c2be8"
      },
      "outputs": [
        {
          "output_type": "stream",
          "name": "stdout",
          "text": [
            "3\n",
            "1 <class 'int'>\n",
            "1\n",
            "1.2\n"
          ]
        }
      ],
      "source": [
        "#int\n",
        "var1 = 1\n",
        "\n",
        "var2 = 2\n",
        "\n",
        "print(var1 + var2)\n",
        "\n",
        "#float\n",
        "var3 = 1.0\n",
        "\n",
        "#string\n",
        "\n",
        "var_str1 = 'STRING'\n",
        "var_str2 = \"STRING\"\n",
        "\n",
        "var_bool = True\n",
        "\n",
        "# type of a variable\n",
        "\n",
        "print(var1, type(var1))\n",
        "\n",
        "# typecast\n",
        "\n",
        "print(int(1.2))\n",
        "\n",
        "# change the variable type\n",
        "var_str3 = '1.2'\n",
        "\n",
        "print(float(var_str3))"
      ]
    }
  ]
}
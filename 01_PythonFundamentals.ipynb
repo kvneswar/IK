{
  "nbformat": 4,
  "nbformat_minor": 0,
  "metadata": {
    "colab": {
      "provenance": [],
      "authorship_tag": "ABX9TyP2mRXefCDKnMN9z9Pe2/Je",
      "include_colab_link": true
    },
    "kernelspec": {
      "name": "python3",
      "display_name": "Python 3"
    },
    "language_info": {
      "name": "python"
    }
  },
  "cells": [
    {
      "cell_type": "markdown",
      "metadata": {
        "id": "view-in-github",
        "colab_type": "text"
      },
      "source": [
        "<a href=\"https://colab.research.google.com/github/kvneswar/IK/blob/main/01_PythonFundamentals.ipynb\" target=\"_parent\"><img src=\"https://colab.research.google.com/assets/colab-badge.svg\" alt=\"Open In Colab\"/></a>"
      ]
    },
    {
      "cell_type": "code",
      "execution_count": 19,
      "metadata": {
        "colab": {
          "base_uri": "https://localhost:8080/"
        },
        "id": "VwwBIZkb7YVq",
        "outputId": "159ab26e-798d-4c75-814e-a260f3f6b3ef"
      },
      "outputs": [
        {
          "output_type": "stream",
          "name": "stdout",
          "text": [
            "3\n",
            "1 <class 'int'>\n",
            "1\n",
            "1.2\n",
            "inf\n",
            "inf\n",
            "-inf\n",
            "1.5\n",
            "1\n",
            "2\n",
            "True\n",
            "True\n",
            "False\n",
            "1 is equal to 1\n",
            "1,3,4,1,2,\n",
            "3\n"
          ]
        }
      ],
      "source": [
        "#int\n",
        "var1 = 1\n",
        "\n",
        "var2 = 2\n",
        "\n",
        "print(var1 + var2)\n",
        "\n",
        "#float\n",
        "var3 = 1.0\n",
        "\n",
        "#string\n",
        "\n",
        "var_str1 = 'STRING'\n",
        "var_str2 = \"STRING\"\n",
        "\n",
        "var_bool = True\n",
        "\n",
        "# type of a variable\n",
        "\n",
        "print(var1, type(var1))\n",
        "\n",
        "# typecast\n",
        "\n",
        "print(int(1.2))\n",
        "\n",
        "# change the variable type\n",
        "var_str3 = '1.2'\n",
        "\n",
        "print(float(var_str3))\n",
        "\n",
        "# assign inf\n",
        "\n",
        "var_inf1 = float('inf')\n",
        "var_inf2 = float('-inf')\n",
        "\n",
        "print(var_inf1 - 1)\n",
        "\n",
        "import math\n",
        "\n",
        "print(math.inf + 1)\n",
        "print(-math.inf)\n",
        "\n",
        "# division & floor division\n",
        "\n",
        "print(3/2)\n",
        "print(3//2) #return only the integer component of the quotient(result)\n",
        "\n",
        "#i++\n",
        "\n",
        "var1 += 1\n",
        "\n",
        "print(var1)\n",
        "\n",
        "# logical operators\n",
        "\n",
        "print(True and True)\n",
        "print(True or False)\n",
        "print(not(True))\n",
        "\n",
        "#if statement\n",
        "\n",
        "if 1 > 2:\n",
        "  print('1 is greater 2')\n",
        "elif 1 == 1:\n",
        "  print('1 is equal to 1')\n",
        "else:\n",
        "  print('default')\n",
        "\n",
        "# for loop\n",
        "\n",
        "list = [1, 2, 3, 4]\n",
        "\n",
        "for num in list:\n",
        "  if(num == 2) :\n",
        "    continue\n",
        "\n",
        "  print(num, end = ',')\n",
        "\n",
        "# while loop\n",
        "\n",
        "i = 0\n",
        "\n",
        "while(i < len(list)):\n",
        "  if(i == 2):\n",
        "    break\n",
        "\n",
        "  print(list[i], end=',')\n",
        "\n",
        "  i += 1\n",
        "\n",
        "print('')\n",
        "#function\n",
        "def sum(num1, num2):\n",
        "    return num1 + num2\n",
        "\n",
        "print(sum(1, 2))\n"
      ]
    }
  ]
}
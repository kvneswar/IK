{
  "nbformat": 4,
  "nbformat_minor": 0,
  "metadata": {
    "colab": {
      "provenance": [],
      "authorship_tag": "ABX9TyMGuDLNTcxKljWQoN1nCp5W",
      "include_colab_link": true
    },
    "kernelspec": {
      "name": "python3",
      "display_name": "Python 3"
    },
    "language_info": {
      "name": "python"
    }
  },
  "cells": [
    {
      "cell_type": "markdown",
      "metadata": {
        "id": "view-in-github",
        "colab_type": "text"
      },
      "source": [
        "<a href=\"https://colab.research.google.com/github/kvneswar/IK/blob/main/01_PythonFundamentals.ipynb\" target=\"_parent\"><img src=\"https://colab.research.google.com/assets/colab-badge.svg\" alt=\"Open In Colab\"/></a>"
      ]
    },
    {
      "cell_type": "code",
      "execution_count": 16,
      "metadata": {
        "colab": {
          "base_uri": "https://localhost:8080/"
        },
        "id": "VwwBIZkb7YVq",
        "outputId": "3a5a4b9e-14a3-4a33-9334-04f546e6335f"
      },
      "outputs": [
        {
          "output_type": "stream",
          "name": "stdout",
          "text": [
            "3\n",
            "1 <class 'int'>\n",
            "1\n",
            "1.2\n",
            "inf\n",
            "inf\n",
            "-inf\n"
          ]
        }
      ],
      "source": [
        "#int\n",
        "var1 = 1\n",
        "\n",
        "var2 = 2\n",
        "\n",
        "print(var1 + var2)\n",
        "\n",
        "#float\n",
        "var3 = 1.0\n",
        "\n",
        "#string\n",
        "\n",
        "var_str1 = 'STRING'\n",
        "var_str2 = \"STRING\"\n",
        "\n",
        "var_bool = True\n",
        "\n",
        "# type of a variable\n",
        "\n",
        "print(var1, type(var1))\n",
        "\n",
        "# typecast\n",
        "\n",
        "print(int(1.2))\n",
        "\n",
        "# change the variable type\n",
        "var_str3 = '1.2'\n",
        "\n",
        "print(float(var_str3))\n",
        "\n",
        "# assign inf\n",
        "\n",
        "var_inf1 = float('inf')\n",
        "var_inf2 = float('-inf')\n",
        "\n",
        "print(var_inf1 - 1)\n",
        "\n",
        "import math\n",
        "\n",
        "print(math.inf + 1)\n",
        "print(-math.inf)"
      ]
    }
  ]
}